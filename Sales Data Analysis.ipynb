{
 "cells": [
  {
   "cell_type": "code",
   "execution_count": 1,
   "id": "561dc7f7",
   "metadata": {},
   "outputs": [],
   "source": [
    "import pandas as pd "
   ]
  },
  {
   "cell_type": "code",
   "execution_count": 2,
   "id": "f02320fe",
   "metadata": {},
   "outputs": [],
   "source": [
    "data = pd.read_csv('sales_data.csv')"
   ]
  },
  {
   "cell_type": "code",
   "execution_count": 3,
   "id": "1c530276",
   "metadata": {},
   "outputs": [
    {
     "name": "stdout",
     "output_type": "stream",
     "text": [
      "<class 'pandas.core.frame.DataFrame'>\n",
      "RangeIndex: 369 entries, 0 to 368\n",
      "Data columns (total 6 columns):\n",
      " #   Column    Non-Null Count  Dtype  \n",
      "---  ------    --------------  -----  \n",
      " 0   date      369 non-null    object \n",
      " 1   product   369 non-null    object \n",
      " 2   category  369 non-null    object \n",
      " 3   price     367 non-null    float64\n",
      " 4   quantity  368 non-null    float64\n",
      " 5   revenue   368 non-null    float64\n",
      "dtypes: float64(3), object(3)\n",
      "memory usage: 17.4+ KB\n"
     ]
    }
   ],
   "source": [
    "data.info()"
   ]
  },
  {
   "cell_type": "code",
   "execution_count": 4,
   "id": "fcc0176f",
   "metadata": {},
   "outputs": [
    {
     "data": {
      "text/html": [
       "<div>\n",
       "<style scoped>\n",
       "    .dataframe tbody tr th:only-of-type {\n",
       "        vertical-align: middle;\n",
       "    }\n",
       "\n",
       "    .dataframe tbody tr th {\n",
       "        vertical-align: top;\n",
       "    }\n",
       "\n",
       "    .dataframe thead th {\n",
       "        text-align: right;\n",
       "    }\n",
       "</style>\n",
       "<table border=\"1\" class=\"dataframe\">\n",
       "  <thead>\n",
       "    <tr style=\"text-align: right;\">\n",
       "      <th></th>\n",
       "      <th>price</th>\n",
       "      <th>quantity</th>\n",
       "      <th>revenue</th>\n",
       "    </tr>\n",
       "  </thead>\n",
       "  <tbody>\n",
       "    <tr>\n",
       "      <th>count</th>\n",
       "      <td>367.000000</td>\n",
       "      <td>368.000000</td>\n",
       "      <td>368.000000</td>\n",
       "    </tr>\n",
       "    <tr>\n",
       "      <th>mean</th>\n",
       "      <td>211.226158</td>\n",
       "      <td>14.565217</td>\n",
       "      <td>2060.679348</td>\n",
       "    </tr>\n",
       "    <tr>\n",
       "      <th>std</th>\n",
       "      <td>227.335170</td>\n",
       "      <td>8.595740</td>\n",
       "      <td>1910.930790</td>\n",
       "    </tr>\n",
       "    <tr>\n",
       "      <th>min</th>\n",
       "      <td>20.000000</td>\n",
       "      <td>3.000000</td>\n",
       "      <td>300.000000</td>\n",
       "    </tr>\n",
       "    <tr>\n",
       "      <th>25%</th>\n",
       "      <td>50.000000</td>\n",
       "      <td>8.000000</td>\n",
       "      <td>800.000000</td>\n",
       "    </tr>\n",
       "    <tr>\n",
       "      <th>50%</th>\n",
       "      <td>100.000000</td>\n",
       "      <td>12.000000</td>\n",
       "      <td>1200.000000</td>\n",
       "    </tr>\n",
       "    <tr>\n",
       "      <th>75%</th>\n",
       "      <td>300.000000</td>\n",
       "      <td>20.000000</td>\n",
       "      <td>2400.000000</td>\n",
       "    </tr>\n",
       "    <tr>\n",
       "      <th>max</th>\n",
       "      <td>1200.000000</td>\n",
       "      <td>50.000000</td>\n",
       "      <td>7200.000000</td>\n",
       "    </tr>\n",
       "  </tbody>\n",
       "</table>\n",
       "</div>"
      ],
      "text/plain": [
       "             price    quantity      revenue\n",
       "count   367.000000  368.000000   368.000000\n",
       "mean    211.226158   14.565217  2060.679348\n",
       "std     227.335170    8.595740  1910.930790\n",
       "min      20.000000    3.000000   300.000000\n",
       "25%      50.000000    8.000000   800.000000\n",
       "50%     100.000000   12.000000  1200.000000\n",
       "75%     300.000000   20.000000  2400.000000\n",
       "max    1200.000000   50.000000  7200.000000"
      ]
     },
     "execution_count": 4,
     "metadata": {},
     "output_type": "execute_result"
    }
   ],
   "source": [
    "data.describe()"
   ]
  },
  {
   "cell_type": "code",
   "execution_count": 5,
   "id": "c53bf11d",
   "metadata": {},
   "outputs": [
    {
     "data": {
      "text/html": [
       "<div>\n",
       "<style scoped>\n",
       "    .dataframe tbody tr th:only-of-type {\n",
       "        vertical-align: middle;\n",
       "    }\n",
       "\n",
       "    .dataframe tbody tr th {\n",
       "        vertical-align: top;\n",
       "    }\n",
       "\n",
       "    .dataframe thead th {\n",
       "        text-align: right;\n",
       "    }\n",
       "</style>\n",
       "<table border=\"1\" class=\"dataframe\">\n",
       "  <thead>\n",
       "    <tr style=\"text-align: right;\">\n",
       "      <th></th>\n",
       "      <th>date</th>\n",
       "      <th>product</th>\n",
       "      <th>category</th>\n",
       "      <th>price</th>\n",
       "      <th>quantity</th>\n",
       "      <th>revenue</th>\n",
       "    </tr>\n",
       "  </thead>\n",
       "  <tbody>\n",
       "    <tr>\n",
       "      <th>0</th>\n",
       "      <td>1/1/2022</td>\n",
       "      <td>Smartphone</td>\n",
       "      <td>Electronics</td>\n",
       "      <td>600.0</td>\n",
       "      <td>10.0</td>\n",
       "      <td>6000.0</td>\n",
       "    </tr>\n",
       "    <tr>\n",
       "      <th>1</th>\n",
       "      <td>1/1/2022</td>\n",
       "      <td>Laptop</td>\n",
       "      <td>Electronics</td>\n",
       "      <td>1200.0</td>\n",
       "      <td>5.0</td>\n",
       "      <td>6000.0</td>\n",
       "    </tr>\n",
       "    <tr>\n",
       "      <th>2</th>\n",
       "      <td>1/2/2022</td>\n",
       "      <td>T-Shirt</td>\n",
       "      <td>Clothing</td>\n",
       "      <td>20.0</td>\n",
       "      <td>50.0</td>\n",
       "      <td>1000.0</td>\n",
       "    </tr>\n",
       "    <tr>\n",
       "      <th>3</th>\n",
       "      <td>1/3/2022</td>\n",
       "      <td>Headphones</td>\n",
       "      <td>Electronics</td>\n",
       "      <td>100.0</td>\n",
       "      <td>20.0</td>\n",
       "      <td>2000.0</td>\n",
       "    </tr>\n",
       "    <tr>\n",
       "      <th>4</th>\n",
       "      <td>1/4/2022</td>\n",
       "      <td>T-Shirt</td>\n",
       "      <td>Clothing</td>\n",
       "      <td>20.0</td>\n",
       "      <td>25.0</td>\n",
       "      <td>500.0</td>\n",
       "    </tr>\n",
       "  </tbody>\n",
       "</table>\n",
       "</div>"
      ],
      "text/plain": [
       "       date     product     category   price  quantity  revenue\n",
       "0  1/1/2022  Smartphone  Electronics   600.0      10.0   6000.0\n",
       "1  1/1/2022      Laptop  Electronics  1200.0       5.0   6000.0\n",
       "2  1/2/2022     T-Shirt     Clothing    20.0      50.0   1000.0\n",
       "3  1/3/2022  Headphones  Electronics   100.0      20.0   2000.0\n",
       "4  1/4/2022     T-Shirt     Clothing    20.0      25.0    500.0"
      ]
     },
     "execution_count": 5,
     "metadata": {},
     "output_type": "execute_result"
    }
   ],
   "source": [
    "data.head()"
   ]
  },
  {
   "cell_type": "code",
   "execution_count": 6,
   "id": "e4e8a211",
   "metadata": {},
   "outputs": [],
   "source": [
    "data.fillna(0, inplace=True)"
   ]
  },
  {
   "cell_type": "code",
   "execution_count": 7,
   "id": "1e968e19",
   "metadata": {},
   "outputs": [
    {
     "name": "stdout",
     "output_type": "stream",
     "text": [
      "Total Revenue for the Year: $ 758330.0\n"
     ]
    }
   ],
   "source": [
    "# Total Revenue\n",
    "total_revenue = data['revenue'].sum()\n",
    "print(\"Total Revenue for the Year: $\", total_revenue)"
   ]
  },
  {
   "cell_type": "code",
   "execution_count": 8,
   "id": "4d6b696d",
   "metadata": {},
   "outputs": [
    {
     "name": "stdout",
     "output_type": "stream",
     "text": [
      "product had the highest revenue : Smartphone with revenue : 434400.0\n"
     ]
    }
   ],
   "source": [
    "# Product with heighst revenue\n",
    "products = set(data['product'])\n",
    "pro_dict= {'Backpack':0,\n",
    " 'Coat':0,\n",
    " 'Headphones':0,\n",
    " 'Hoodie':0,\n",
    " 'Jeans':0,\n",
    " 'Laptop':0,\n",
    " 'Smartphone':0,\n",
    " 'Smartwatch':0,\n",
    " 'Sneakers':0,\n",
    " 'Speaker':0,\n",
    " 'T-Shirt':0,\n",
    " 'Tablet':0,\n",
    " 'Wallet':0,\n",
    " 'Watch':0}\n",
    "for j in range(len(data['product'])):\n",
    "        for i in products:\n",
    "            if data['product'][j] == i:\n",
    "                pro_dict[i] += data['revenue'][j]\n",
    "max_value = max(pro_dict.values())\n",
    "max_key = max(pro_dict, key=lambda k: pro_dict[k])\n",
    "print(f'product had the highest revenue : {max_key} with revenue : {max_value}')\n",
    "        "
   ]
  },
  {
   "cell_type": "code",
   "execution_count": 9,
   "id": "91ff2a61",
   "metadata": {},
   "outputs": [
    {
     "name": "stdout",
     "output_type": "stream",
     "text": [
      "Average Price of a Product Sold: $210.08130081300814\n"
     ]
    }
   ],
   "source": [
    "# Average price of a product sold\n",
    "average_price = data['price'].mean()\n",
    "print(f\"Average Price of a Product Sold: ${average_price}\")"
   ]
  },
  {
   "cell_type": "code",
   "execution_count": 10,
   "id": "de8145fc",
   "metadata": {},
   "outputs": [
    {
     "name": "stdout",
     "output_type": "stream",
     "text": [
      "Total Quantity of Products Sold in Each Category: category\n",
      "Accessories     962.0\n",
      "Bags            390.0\n",
      "Bgas             18.0\n",
      "Clohting         30.0\n",
      "Clothing       2251.0\n",
      "Electronics    1439.0\n",
      "Shoes           258.0\n",
      "Shoeses          12.0\n",
      "Name: quantity, dtype: float64\n",
      "Total quantity of products for the Year:5360.0\n"
     ]
    }
   ],
   "source": [
    "# Total quantity\n",
    "category_quantity = data.groupby('category')['quantity'].sum()\n",
    "print(f\"Total Quantity of Products Sold in Each Category: {category_quantity}\")\n",
    "\n",
    "total_quantity = data['quantity'].sum()\n",
    "print(f\"Total quantity of products for the Year:{total_quantity}\")"
   ]
  },
  {
   "cell_type": "code",
   "execution_count": 11,
   "id": "d2efb173",
   "metadata": {},
   "outputs": [
    {
     "name": "stdout",
     "output_type": "stream",
     "text": [
      "category had the highest revenue : Electronics with revenue : 516080.0\n"
     ]
    }
   ],
   "source": [
    "# Category with heighest reveenue\n",
    "Categories = set(data['category'])\n",
    "\n",
    "cate_dict= {'Accessories':0,\n",
    " 'Bags':0,\n",
    " 'Bgas':0,\n",
    " 'Clohting':0,\n",
    " 'Clothing':0,\n",
    " 'Electronics':0,\n",
    " 'Shoes':0,\n",
    " 'Shoeses':0}\n",
    "for j in range(len(data['category'])):\n",
    "        for i in Categories:\n",
    "            if data['category'][j] == i:\n",
    "                cate_dict[i] += data['revenue'][j]\n",
    "max_value = max(cate_dict.values())\n",
    "max_key = max(cate_dict, key=lambda k: cate_dict[k])\n",
    "print(f'category had the highest revenue : {max_key} with revenue : {max_value}')\n",
    "        "
   ]
  },
  {
   "cell_type": "code",
   "execution_count": 12,
   "id": "23cb5dea",
   "metadata": {},
   "outputs": [
    {
     "name": "stdout",
     "output_type": "stream",
     "text": [
      "Average Revenue Per Sale: $2055.0948509485097\n"
     ]
    }
   ],
   "source": [
    "# Calculate the average revenue per sale\n",
    "average_revenue_per_sale =  data['revenue'].sum() / len(data)\n",
    "print(f\"Average Revenue Per Sale: ${average_revenue_per_sale}\")\n"
   ]
  },
  {
   "cell_type": "code",
   "execution_count": 13,
   "id": "613ee250",
   "metadata": {},
   "outputs": [
    {
     "name": "stdout",
     "output_type": "stream",
     "text": [
      "Total Revenue Generated in Each Quarter of the Year: quarter\n",
      "Q1    182100.0\n",
      "Q2    183970.0\n",
      "Q3    197680.0\n",
      "Q4    194580.0\n",
      "Name: revenue, dtype: float64\n"
     ]
    }
   ],
   "source": [
    "# Total revenue for each quarter\n",
    "data['date'] = pd.to_datetime(data['date'])\n",
    "\n",
    "data['quarter'] = data['date'].dt.to_period('Q')\n",
    "\n",
    "quarterly_revenue = data.groupby('quarter')['revenue'].sum()\n",
    "quarterly_revenue.index = quarterly_revenue.index.strftime('Q%q')\n",
    "\n",
    "print(f\"Total Revenue Generated in Each Quarter of the Year: {quarterly_revenue}\")"
   ]
  }
 ],
 "metadata": {
  "kernelspec": {
   "display_name": "Python 3 (ipykernel)",
   "language": "python",
   "name": "python3"
  },
  "language_info": {
   "codemirror_mode": {
    "name": "ipython",
    "version": 3
   },
   "file_extension": ".py",
   "mimetype": "text/x-python",
   "name": "python",
   "nbconvert_exporter": "python",
   "pygments_lexer": "ipython3",
   "version": "3.9.13"
  }
 },
 "nbformat": 4,
 "nbformat_minor": 5
}
